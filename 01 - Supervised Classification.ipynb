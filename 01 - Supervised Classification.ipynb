{
 "cells": [
  {
   "cell_type": "markdown",
   "metadata": {},
   "source": [
    "# In this file I'm going to work on my predictor for low and high volume comment articles.  I'll start with CountVect and feeding it into NB.\n",
    "# Then I'll use LSA to get 10 vectors (see notebok 02 for why 10) and feed those vectors into different gridsearches of classifiers.  Ultimately in this notebook I'll create a graph of ROC curves to determine the best classifier"
   ]
  },
  {
   "cell_type": "code",
   "execution_count": 7,
   "metadata": {},
   "outputs": [],
   "source": [
    "import pandas as pd\n",
    "import numpy as np\n",
    "import sklearn\n",
    "import gensim\n",
    "import nltk\n",
    "import os\n",
    "from nltk.corpus import stopwords\n",
    "from sklearn.decomposition import TruncatedSVD\n",
    "from sklearn.feature_extraction.text import TfidfVectorizer \n",
    "from sklearn.feature_extraction.text import CountVectorizer \n",
    "from sklearn.preprocessing import Normalizer\n",
    "from sklearn import metrics\n",
    "from sklearn.ensemble import GradientBoostingClassifier\n",
    "from sklearn.ensemble import RandomForestClassifier\n",
    "from sklearn.svm import LinearSVC\n",
    "from sklearn.svm import SVC\n",
    "from sklearn.model_selection import GridSearchCV\n",
    "from sklearn.linear_model import LogisticRegression"
   ]
  },
  {
   "cell_type": "code",
   "execution_count": 3,
   "metadata": {},
   "outputs": [
    {
     "name": "stderr",
     "output_type": "stream",
     "text": [
      "/anaconda3/lib/python3.6/site-packages/ipykernel_launcher.py:1: FutureWarning: from_csv is deprecated. Please use read_csv(...) instead. Note that some of the default arguments are different, so please refer to the documentation for from_csv when changing your function calls\n",
      "  \"\"\"Entry point for launching an IPython kernel.\n"
     ]
    }
   ],
   "source": [
    "df = pd.DataFrame.from_csv(\"CleanedApril2018.csv\")"
   ]
  },
  {
   "cell_type": "code",
   "execution_count": 4,
   "metadata": {},
   "outputs": [],
   "source": [
    "X = df[\"keywords\"]"
   ]
  },
  {
   "cell_type": "code",
   "execution_count": 6,
   "metadata": {},
   "outputs": [],
   "source": [
    "y = df[\"Outcome\"]"
   ]
  },
  {
   "cell_type": "code",
   "execution_count": 7,
   "metadata": {
    "scrolled": true
   },
   "outputs": [],
   "source": [
    "vectorizer = CountVectorizer(min_df = 1, stop_words = 'english')\n",
    "dtm = vectorizer.fit_transform(X)  # dtm: Document-Term Matrix\n",
    "X_new = pd.DataFrame(dtm.toarray(), index=X, columns=vectorizer.get_feature_names())"
   ]
  },
  {
   "cell_type": "code",
   "execution_count": 10,
   "metadata": {},
   "outputs": [
    {
     "data": {
      "text/plain": [
       "Index(['11', '12', '1689', '1723', '1733', '1790', '18', '1830', '1861',\n",
       "       '1866',\n",
       "       ...\n",
       "       'zimbabwe', 'zinke', 'zoe', 'zoloft', 'zomba', 'zone', 'zoos', 'zpass',\n",
       "       'zuckerberg', 'zuma'],\n",
       "      dtype='object', length=4075)"
      ]
     },
     "execution_count": 10,
     "metadata": {},
     "output_type": "execute_result"
    }
   ],
   "source": [
    "X_new.columns"
   ]
  },
  {
   "cell_type": "code",
   "execution_count": 13,
   "metadata": {},
   "outputs": [],
   "source": [
    "from sklearn.model_selection import train_test_split\n",
    "X_train, X_test, y_train, y_test = train_test_split(X_new, y, test_size=0.3, random_state=0)"
   ]
  },
  {
   "cell_type": "code",
   "execution_count": 14,
   "metadata": {},
   "outputs": [],
   "source": [
    "from sklearn.naive_bayes import MultinomialNB\n",
    "clf = MultinomialNB()"
   ]
  },
  {
   "cell_type": "code",
   "execution_count": 18,
   "metadata": {},
   "outputs": [
    {
     "data": {
      "text/plain": [
       "MultinomialNB(alpha=1.0, class_prior=None, fit_prior=True)"
      ]
     },
     "execution_count": 18,
     "metadata": {},
     "output_type": "execute_result"
    }
   ],
   "source": [
    "clf.fit(X_train,y_train)"
   ]
  },
  {
   "cell_type": "code",
   "execution_count": 20,
   "metadata": {},
   "outputs": [
    {
     "data": {
      "text/plain": [
       "0.8832298136645963"
      ]
     },
     "execution_count": 20,
     "metadata": {},
     "output_type": "execute_result"
    }
   ],
   "source": [
    "clf.score(X_train,y_train)"
   ]
  },
  {
   "cell_type": "code",
   "execution_count": 32,
   "metadata": {},
   "outputs": [
    {
     "data": {
      "text/plain": [
       "0.7072463768115942"
      ]
     },
     "execution_count": 32,
     "metadata": {},
     "output_type": "execute_result"
    }
   ],
   "source": [
    "clf.score(X_test,y_test)"
   ]
  },
  {
   "cell_type": "markdown",
   "metadata": {},
   "source": [
    "# As we can see, this process caused overfitting.  Now we'll move to creating LSA vectors to feed into the model.  I'll be using 10 vectors, see notebook 02 for my reasoning."
   ]
  },
  {
   "cell_type": "code",
   "execution_count": 6,
   "metadata": {},
   "outputs": [
    {
     "data": {
      "text/html": [
       "<div>\n",
       "<style scoped>\n",
       "    .dataframe tbody tr th:only-of-type {\n",
       "        vertical-align: middle;\n",
       "    }\n",
       "\n",
       "    .dataframe tbody tr th {\n",
       "        vertical-align: top;\n",
       "    }\n",
       "\n",
       "    .dataframe thead th {\n",
       "        text-align: right;\n",
       "    }\n",
       "</style>\n",
       "<table border=\"1\" class=\"dataframe\">\n",
       "  <thead>\n",
       "    <tr style=\"text-align: right;\">\n",
       "      <th></th>\n",
       "      <th>11</th>\n",
       "      <th>12</th>\n",
       "      <th>1689</th>\n",
       "      <th>1723</th>\n",
       "      <th>1733</th>\n",
       "      <th>1790</th>\n",
       "      <th>18</th>\n",
       "      <th>1830</th>\n",
       "      <th>1861</th>\n",
       "      <th>1866</th>\n",
       "      <th>...</th>\n",
       "      <th>zimbabwe</th>\n",
       "      <th>zinke</th>\n",
       "      <th>zoe</th>\n",
       "      <th>zoloft</th>\n",
       "      <th>zomba</th>\n",
       "      <th>zone</th>\n",
       "      <th>zoos</th>\n",
       "      <th>zpass</th>\n",
       "      <th>zuckerberg</th>\n",
       "      <th>zuma</th>\n",
       "    </tr>\n",
       "    <tr>\n",
       "      <th>keywords</th>\n",
       "      <th></th>\n",
       "      <th></th>\n",
       "      <th></th>\n",
       "      <th></th>\n",
       "      <th></th>\n",
       "      <th></th>\n",
       "      <th></th>\n",
       "      <th></th>\n",
       "      <th></th>\n",
       "      <th></th>\n",
       "      <th></th>\n",
       "      <th></th>\n",
       "      <th></th>\n",
       "      <th></th>\n",
       "      <th></th>\n",
       "      <th></th>\n",
       "      <th></th>\n",
       "      <th></th>\n",
       "      <th></th>\n",
       "      <th></th>\n",
       "      <th></th>\n",
       "    </tr>\n",
       "  </thead>\n",
       "  <tbody>\n",
       "    <tr>\n",
       "      <th>['Workplace Hazards and Violations', 'Football', 'Cheerleaders', 'Discrimination', 'Sexual Harassment', 'National Football League', 'Davis, Bailey', 'Goodell, Roger']</th>\n",
       "      <td>0</td>\n",
       "      <td>0</td>\n",
       "      <td>0</td>\n",
       "      <td>0</td>\n",
       "      <td>0</td>\n",
       "      <td>0</td>\n",
       "      <td>0</td>\n",
       "      <td>0</td>\n",
       "      <td>0</td>\n",
       "      <td>0</td>\n",
       "      <td>...</td>\n",
       "      <td>0</td>\n",
       "      <td>0</td>\n",
       "      <td>0</td>\n",
       "      <td>0</td>\n",
       "      <td>0</td>\n",
       "      <td>0</td>\n",
       "      <td>0</td>\n",
       "      <td>0</td>\n",
       "      <td>0</td>\n",
       "      <td>0</td>\n",
       "    </tr>\n",
       "    <tr>\n",
       "      <th>['Environmental Protection Agency', 'Pruitt, Scott', 'United States Politics and Government', 'Research']</th>\n",
       "      <td>0</td>\n",
       "      <td>0</td>\n",
       "      <td>0</td>\n",
       "      <td>0</td>\n",
       "      <td>0</td>\n",
       "      <td>0</td>\n",
       "      <td>0</td>\n",
       "      <td>0</td>\n",
       "      <td>0</td>\n",
       "      <td>0</td>\n",
       "      <td>...</td>\n",
       "      <td>0</td>\n",
       "      <td>0</td>\n",
       "      <td>0</td>\n",
       "      <td>0</td>\n",
       "      <td>0</td>\n",
       "      <td>0</td>\n",
       "      <td>0</td>\n",
       "      <td>0</td>\n",
       "      <td>0</td>\n",
       "      <td>0</td>\n",
       "    </tr>\n",
       "    <tr>\n",
       "      <th>['Restaurants', 'Noma (Copenhagen, Restaurant)', 'Redzepi, Rene', 'Copenhagen (Denmark)']</th>\n",
       "      <td>0</td>\n",
       "      <td>0</td>\n",
       "      <td>0</td>\n",
       "      <td>0</td>\n",
       "      <td>0</td>\n",
       "      <td>0</td>\n",
       "      <td>0</td>\n",
       "      <td>0</td>\n",
       "      <td>0</td>\n",
       "      <td>0</td>\n",
       "      <td>...</td>\n",
       "      <td>0</td>\n",
       "      <td>0</td>\n",
       "      <td>0</td>\n",
       "      <td>0</td>\n",
       "      <td>0</td>\n",
       "      <td>0</td>\n",
       "      <td>0</td>\n",
       "      <td>0</td>\n",
       "      <td>0</td>\n",
       "      <td>0</td>\n",
       "    </tr>\n",
       "    <tr>\n",
       "      <th>['Texas', 'Soil', 'Pregnancy and Childbirth', 'New York Times']</th>\n",
       "      <td>0</td>\n",
       "      <td>0</td>\n",
       "      <td>0</td>\n",
       "      <td>0</td>\n",
       "      <td>0</td>\n",
       "      <td>0</td>\n",
       "      <td>0</td>\n",
       "      <td>0</td>\n",
       "      <td>0</td>\n",
       "      <td>0</td>\n",
       "      <td>...</td>\n",
       "      <td>0</td>\n",
       "      <td>0</td>\n",
       "      <td>0</td>\n",
       "      <td>0</td>\n",
       "      <td>0</td>\n",
       "      <td>0</td>\n",
       "      <td>0</td>\n",
       "      <td>0</td>\n",
       "      <td>0</td>\n",
       "      <td>0</td>\n",
       "    </tr>\n",
       "    <tr>\n",
       "      <th>['Bicycles and Bicycling', 'Google Maps', 'Commuting']</th>\n",
       "      <td>0</td>\n",
       "      <td>0</td>\n",
       "      <td>0</td>\n",
       "      <td>0</td>\n",
       "      <td>0</td>\n",
       "      <td>0</td>\n",
       "      <td>0</td>\n",
       "      <td>0</td>\n",
       "      <td>0</td>\n",
       "      <td>0</td>\n",
       "      <td>...</td>\n",
       "      <td>0</td>\n",
       "      <td>0</td>\n",
       "      <td>0</td>\n",
       "      <td>0</td>\n",
       "      <td>0</td>\n",
       "      <td>0</td>\n",
       "      <td>0</td>\n",
       "      <td>0</td>\n",
       "      <td>0</td>\n",
       "      <td>0</td>\n",
       "    </tr>\n",
       "    <tr>\n",
       "      <th>['Hackett, Jim', 'Ford Motor Co', 'Automobiles', 'Sports Utility Vehicles and Light Trucks', 'Trucks and Trucking']</th>\n",
       "      <td>0</td>\n",
       "      <td>0</td>\n",
       "      <td>0</td>\n",
       "      <td>0</td>\n",
       "      <td>0</td>\n",
       "      <td>0</td>\n",
       "      <td>0</td>\n",
       "      <td>0</td>\n",
       "      <td>0</td>\n",
       "      <td>0</td>\n",
       "      <td>...</td>\n",
       "      <td>0</td>\n",
       "      <td>0</td>\n",
       "      <td>0</td>\n",
       "      <td>0</td>\n",
       "      <td>0</td>\n",
       "      <td>0</td>\n",
       "      <td>0</td>\n",
       "      <td>0</td>\n",
       "      <td>0</td>\n",
       "      <td>0</td>\n",
       "    </tr>\n",
       "    <tr>\n",
       "      <th>['Romney, Mitt', 'Elections, Senate', 'Utah', 'Republican Party', 'Trump, Donald J']</th>\n",
       "      <td>0</td>\n",
       "      <td>0</td>\n",
       "      <td>0</td>\n",
       "      <td>0</td>\n",
       "      <td>0</td>\n",
       "      <td>0</td>\n",
       "      <td>0</td>\n",
       "      <td>0</td>\n",
       "      <td>0</td>\n",
       "      <td>0</td>\n",
       "      <td>...</td>\n",
       "      <td>0</td>\n",
       "      <td>0</td>\n",
       "      <td>0</td>\n",
       "      <td>0</td>\n",
       "      <td>0</td>\n",
       "      <td>0</td>\n",
       "      <td>0</td>\n",
       "      <td>0</td>\n",
       "      <td>0</td>\n",
       "      <td>0</td>\n",
       "    </tr>\n",
       "    <tr>\n",
       "      <th>['Social Media', 'Conservatism (US Politics)', 'Bone, Kenneth (1982- )', 'Damore, James', 'Lipset, Seymour Martin']</th>\n",
       "      <td>0</td>\n",
       "      <td>0</td>\n",
       "      <td>0</td>\n",
       "      <td>0</td>\n",
       "      <td>0</td>\n",
       "      <td>0</td>\n",
       "      <td>0</td>\n",
       "      <td>0</td>\n",
       "      <td>0</td>\n",
       "      <td>0</td>\n",
       "      <td>...</td>\n",
       "      <td>0</td>\n",
       "      <td>0</td>\n",
       "      <td>0</td>\n",
       "      <td>0</td>\n",
       "      <td>0</td>\n",
       "      <td>0</td>\n",
       "      <td>0</td>\n",
       "      <td>0</td>\n",
       "      <td>0</td>\n",
       "      <td>0</td>\n",
       "    </tr>\n",
       "    <tr>\n",
       "      <th>['Francis', 'Roman Catholic Church', 'Karadima, Fernando', 'Sex Crimes', 'Priests', 'Pell, George (1941- )', 'Chile']</th>\n",
       "      <td>0</td>\n",
       "      <td>0</td>\n",
       "      <td>0</td>\n",
       "      <td>0</td>\n",
       "      <td>0</td>\n",
       "      <td>0</td>\n",
       "      <td>0</td>\n",
       "      <td>0</td>\n",
       "      <td>0</td>\n",
       "      <td>0</td>\n",
       "      <td>...</td>\n",
       "      <td>0</td>\n",
       "      <td>0</td>\n",
       "      <td>0</td>\n",
       "      <td>0</td>\n",
       "      <td>0</td>\n",
       "      <td>0</td>\n",
       "      <td>0</td>\n",
       "      <td>0</td>\n",
       "      <td>0</td>\n",
       "      <td>0</td>\n",
       "    </tr>\n",
       "    <tr>\n",
       "      <th>['Art', 'Berlin (Germany)', 'Ai Weiwei', 'Biesenbach, Klaus', 'Scully, Sean']</th>\n",
       "      <td>0</td>\n",
       "      <td>0</td>\n",
       "      <td>0</td>\n",
       "      <td>0</td>\n",
       "      <td>0</td>\n",
       "      <td>0</td>\n",
       "      <td>0</td>\n",
       "      <td>0</td>\n",
       "      <td>0</td>\n",
       "      <td>0</td>\n",
       "      <td>...</td>\n",
       "      <td>0</td>\n",
       "      <td>0</td>\n",
       "      <td>0</td>\n",
       "      <td>0</td>\n",
       "      <td>0</td>\n",
       "      <td>0</td>\n",
       "      <td>0</td>\n",
       "      <td>0</td>\n",
       "      <td>0</td>\n",
       "      <td>0</td>\n",
       "    </tr>\n",
       "  </tbody>\n",
       "</table>\n",
       "<p>10 rows × 4075 columns</p>\n",
       "</div>"
      ],
      "text/plain": [
       "                                                    11  12  1689  1723  1733  \\\n",
       "keywords                                                                       \n",
       "['Workplace Hazards and Violations', 'Football'...   0   0     0     0     0   \n",
       "['Environmental Protection Agency', 'Pruitt, Sc...   0   0     0     0     0   \n",
       "['Restaurants', 'Noma (Copenhagen, Restaurant)'...   0   0     0     0     0   \n",
       "['Texas', 'Soil', 'Pregnancy and Childbirth', '...   0   0     0     0     0   \n",
       "['Bicycles and Bicycling', 'Google Maps', 'Comm...   0   0     0     0     0   \n",
       "['Hackett, Jim', 'Ford Motor Co', 'Automobiles'...   0   0     0     0     0   \n",
       "['Romney, Mitt', 'Elections, Senate', 'Utah', '...   0   0     0     0     0   \n",
       "['Social Media', 'Conservatism (US Politics)', ...   0   0     0     0     0   \n",
       "['Francis', 'Roman Catholic Church', 'Karadima,...   0   0     0     0     0   \n",
       "['Art', 'Berlin (Germany)', 'Ai Weiwei', 'Biese...   0   0     0     0     0   \n",
       "\n",
       "                                                    1790  18  1830  1861  \\\n",
       "keywords                                                                   \n",
       "['Workplace Hazards and Violations', 'Football'...     0   0     0     0   \n",
       "['Environmental Protection Agency', 'Pruitt, Sc...     0   0     0     0   \n",
       "['Restaurants', 'Noma (Copenhagen, Restaurant)'...     0   0     0     0   \n",
       "['Texas', 'Soil', 'Pregnancy and Childbirth', '...     0   0     0     0   \n",
       "['Bicycles and Bicycling', 'Google Maps', 'Comm...     0   0     0     0   \n",
       "['Hackett, Jim', 'Ford Motor Co', 'Automobiles'...     0   0     0     0   \n",
       "['Romney, Mitt', 'Elections, Senate', 'Utah', '...     0   0     0     0   \n",
       "['Social Media', 'Conservatism (US Politics)', ...     0   0     0     0   \n",
       "['Francis', 'Roman Catholic Church', 'Karadima,...     0   0     0     0   \n",
       "['Art', 'Berlin (Germany)', 'Ai Weiwei', 'Biese...     0   0     0     0   \n",
       "\n",
       "                                                    1866  ...   zimbabwe  \\\n",
       "keywords                                                  ...              \n",
       "['Workplace Hazards and Violations', 'Football'...     0  ...          0   \n",
       "['Environmental Protection Agency', 'Pruitt, Sc...     0  ...          0   \n",
       "['Restaurants', 'Noma (Copenhagen, Restaurant)'...     0  ...          0   \n",
       "['Texas', 'Soil', 'Pregnancy and Childbirth', '...     0  ...          0   \n",
       "['Bicycles and Bicycling', 'Google Maps', 'Comm...     0  ...          0   \n",
       "['Hackett, Jim', 'Ford Motor Co', 'Automobiles'...     0  ...          0   \n",
       "['Romney, Mitt', 'Elections, Senate', 'Utah', '...     0  ...          0   \n",
       "['Social Media', 'Conservatism (US Politics)', ...     0  ...          0   \n",
       "['Francis', 'Roman Catholic Church', 'Karadima,...     0  ...          0   \n",
       "['Art', 'Berlin (Germany)', 'Ai Weiwei', 'Biese...     0  ...          0   \n",
       "\n",
       "                                                    zinke  zoe  zoloft  zomba  \\\n",
       "keywords                                                                        \n",
       "['Workplace Hazards and Violations', 'Football'...      0    0       0      0   \n",
       "['Environmental Protection Agency', 'Pruitt, Sc...      0    0       0      0   \n",
       "['Restaurants', 'Noma (Copenhagen, Restaurant)'...      0    0       0      0   \n",
       "['Texas', 'Soil', 'Pregnancy and Childbirth', '...      0    0       0      0   \n",
       "['Bicycles and Bicycling', 'Google Maps', 'Comm...      0    0       0      0   \n",
       "['Hackett, Jim', 'Ford Motor Co', 'Automobiles'...      0    0       0      0   \n",
       "['Romney, Mitt', 'Elections, Senate', 'Utah', '...      0    0       0      0   \n",
       "['Social Media', 'Conservatism (US Politics)', ...      0    0       0      0   \n",
       "['Francis', 'Roman Catholic Church', 'Karadima,...      0    0       0      0   \n",
       "['Art', 'Berlin (Germany)', 'Ai Weiwei', 'Biese...      0    0       0      0   \n",
       "\n",
       "                                                    zone  zoos  zpass  \\\n",
       "keywords                                                                \n",
       "['Workplace Hazards and Violations', 'Football'...     0     0      0   \n",
       "['Environmental Protection Agency', 'Pruitt, Sc...     0     0      0   \n",
       "['Restaurants', 'Noma (Copenhagen, Restaurant)'...     0     0      0   \n",
       "['Texas', 'Soil', 'Pregnancy and Childbirth', '...     0     0      0   \n",
       "['Bicycles and Bicycling', 'Google Maps', 'Comm...     0     0      0   \n",
       "['Hackett, Jim', 'Ford Motor Co', 'Automobiles'...     0     0      0   \n",
       "['Romney, Mitt', 'Elections, Senate', 'Utah', '...     0     0      0   \n",
       "['Social Media', 'Conservatism (US Politics)', ...     0     0      0   \n",
       "['Francis', 'Roman Catholic Church', 'Karadima,...     0     0      0   \n",
       "['Art', 'Berlin (Germany)', 'Ai Weiwei', 'Biese...     0     0      0   \n",
       "\n",
       "                                                    zuckerberg  zuma  \n",
       "keywords                                                              \n",
       "['Workplace Hazards and Violations', 'Football'...           0     0  \n",
       "['Environmental Protection Agency', 'Pruitt, Sc...           0     0  \n",
       "['Restaurants', 'Noma (Copenhagen, Restaurant)'...           0     0  \n",
       "['Texas', 'Soil', 'Pregnancy and Childbirth', '...           0     0  \n",
       "['Bicycles and Bicycling', 'Google Maps', 'Comm...           0     0  \n",
       "['Hackett, Jim', 'Ford Motor Co', 'Automobiles'...           0     0  \n",
       "['Romney, Mitt', 'Elections, Senate', 'Utah', '...           0     0  \n",
       "['Social Media', 'Conservatism (US Politics)', ...           0     0  \n",
       "['Francis', 'Roman Catholic Church', 'Karadima,...           0     0  \n",
       "['Art', 'Berlin (Germany)', 'Ai Weiwei', 'Biese...           0     0  \n",
       "\n",
       "[10 rows x 4075 columns]"
      ]
     },
     "execution_count": 6,
     "metadata": {},
     "output_type": "execute_result"
    }
   ],
   "source": [
    "vectorizer = CountVectorizer(min_df = 1, stop_words = 'english')\n",
    "dtm = vectorizer.fit_transform(keywords)  # dtm: Document-Term Matrix\n",
    "pd.DataFrame(dtm.toarray(), index=keywords, columns=vectorizer.get_feature_names()).head(10)"
   ]
  },
  {
   "cell_type": "code",
   "execution_count": 7,
   "metadata": {},
   "outputs": [],
   "source": [
    "lsa = TruncatedSVD(10, algorithm = 'randomized')\n",
    "dtm_lsa = lsa.fit_transform(dtm)\n",
    "dtm_lsa = Normalizer(copy=False).fit_transform(dtm_lsa)"
   ]
  },
  {
   "cell_type": "code",
   "execution_count": 8,
   "metadata": {},
   "outputs": [
    {
     "data": {
      "text/plain": [
       "array([0.07978307, 0.02916584, 0.02155648, 0.02152315, 0.0196936 ,\n",
       "       0.01601496, 0.01429026, 0.01250633, 0.0118459 , 0.0120055 ])"
      ]
     },
     "execution_count": 8,
     "metadata": {},
     "output_type": "execute_result"
    }
   ],
   "source": [
    "lsa.explained_variance_ratio_"
   ]
  },
  {
   "cell_type": "code",
   "execution_count": 9,
   "metadata": {
    "scrolled": true
   },
   "outputs": [
    {
     "data": {
      "text/html": [
       "<div>\n",
       "<style scoped>\n",
       "    .dataframe tbody tr th:only-of-type {\n",
       "        vertical-align: middle;\n",
       "    }\n",
       "\n",
       "    .dataframe tbody tr th {\n",
       "        vertical-align: top;\n",
       "    }\n",
       "\n",
       "    .dataframe thead th {\n",
       "        text-align: right;\n",
       "    }\n",
       "</style>\n",
       "<table border=\"1\" class=\"dataframe\">\n",
       "  <thead>\n",
       "    <tr style=\"text-align: right;\">\n",
       "      <th></th>\n",
       "      <th>11</th>\n",
       "      <th>12</th>\n",
       "      <th>1689</th>\n",
       "      <th>1723</th>\n",
       "      <th>1733</th>\n",
       "      <th>1790</th>\n",
       "      <th>18</th>\n",
       "      <th>1830</th>\n",
       "      <th>1861</th>\n",
       "      <th>1866</th>\n",
       "      <th>...</th>\n",
       "      <th>zimbabwe</th>\n",
       "      <th>zinke</th>\n",
       "      <th>zoe</th>\n",
       "      <th>zoloft</th>\n",
       "      <th>zomba</th>\n",
       "      <th>zone</th>\n",
       "      <th>zoos</th>\n",
       "      <th>zpass</th>\n",
       "      <th>zuckerberg</th>\n",
       "      <th>zuma</th>\n",
       "    </tr>\n",
       "  </thead>\n",
       "  <tbody>\n",
       "    <tr>\n",
       "      <th>component_1</th>\n",
       "      <td>0.00048</td>\n",
       "      <td>0.00153</td>\n",
       "      <td>0.00002</td>\n",
       "      <td>0.00125</td>\n",
       "      <td>0.00002</td>\n",
       "      <td>0.00001</td>\n",
       "      <td>0.00011</td>\n",
       "      <td>0.00000</td>\n",
       "      <td>0.00004</td>\n",
       "      <td>0.00001</td>\n",
       "      <td>...</td>\n",
       "      <td>0.00002</td>\n",
       "      <td>0.00250</td>\n",
       "      <td>0.00004</td>\n",
       "      <td>0.00001</td>\n",
       "      <td>0.00002</td>\n",
       "      <td>0.00145</td>\n",
       "      <td>0.00000</td>\n",
       "      <td>0.00009</td>\n",
       "      <td>0.00530</td>\n",
       "      <td>0.00043</td>\n",
       "    </tr>\n",
       "    <tr>\n",
       "      <th>component_2</th>\n",
       "      <td>-0.00152</td>\n",
       "      <td>0.00498</td>\n",
       "      <td>0.00029</td>\n",
       "      <td>-0.00247</td>\n",
       "      <td>0.00029</td>\n",
       "      <td>-0.00000</td>\n",
       "      <td>-0.00076</td>\n",
       "      <td>-0.00000</td>\n",
       "      <td>0.00005</td>\n",
       "      <td>-0.00000</td>\n",
       "      <td>...</td>\n",
       "      <td>0.00010</td>\n",
       "      <td>0.00101</td>\n",
       "      <td>0.00016</td>\n",
       "      <td>-0.00001</td>\n",
       "      <td>0.00007</td>\n",
       "      <td>-0.00494</td>\n",
       "      <td>0.00000</td>\n",
       "      <td>0.00124</td>\n",
       "      <td>0.01082</td>\n",
       "      <td>0.00055</td>\n",
       "    </tr>\n",
       "    <tr>\n",
       "      <th>component_3</th>\n",
       "      <td>0.00010</td>\n",
       "      <td>0.01907</td>\n",
       "      <td>0.00015</td>\n",
       "      <td>-0.00045</td>\n",
       "      <td>0.00015</td>\n",
       "      <td>0.00001</td>\n",
       "      <td>-0.00004</td>\n",
       "      <td>0.00005</td>\n",
       "      <td>0.00020</td>\n",
       "      <td>0.00001</td>\n",
       "      <td>...</td>\n",
       "      <td>0.00010</td>\n",
       "      <td>0.00024</td>\n",
       "      <td>0.00004</td>\n",
       "      <td>0.00014</td>\n",
       "      <td>0.00017</td>\n",
       "      <td>-0.00073</td>\n",
       "      <td>0.00000</td>\n",
       "      <td>0.00655</td>\n",
       "      <td>-0.00256</td>\n",
       "      <td>0.00088</td>\n",
       "    </tr>\n",
       "    <tr>\n",
       "      <th>component_4</th>\n",
       "      <td>0.00030</td>\n",
       "      <td>-0.00321</td>\n",
       "      <td>0.00036</td>\n",
       "      <td>0.00160</td>\n",
       "      <td>0.00036</td>\n",
       "      <td>-0.00002</td>\n",
       "      <td>0.00052</td>\n",
       "      <td>0.00001</td>\n",
       "      <td>0.00001</td>\n",
       "      <td>-0.00002</td>\n",
       "      <td>...</td>\n",
       "      <td>-0.00007</td>\n",
       "      <td>-0.00223</td>\n",
       "      <td>0.00001</td>\n",
       "      <td>0.00003</td>\n",
       "      <td>-0.00009</td>\n",
       "      <td>0.00439</td>\n",
       "      <td>0.00001</td>\n",
       "      <td>-0.00001</td>\n",
       "      <td>0.01020</td>\n",
       "      <td>-0.00195</td>\n",
       "    </tr>\n",
       "    <tr>\n",
       "      <th>component_5</th>\n",
       "      <td>-0.00004</td>\n",
       "      <td>0.00883</td>\n",
       "      <td>0.00027</td>\n",
       "      <td>-0.00086</td>\n",
       "      <td>0.00027</td>\n",
       "      <td>0.00003</td>\n",
       "      <td>-0.00022</td>\n",
       "      <td>0.00001</td>\n",
       "      <td>0.00011</td>\n",
       "      <td>0.00003</td>\n",
       "      <td>...</td>\n",
       "      <td>0.00030</td>\n",
       "      <td>0.00211</td>\n",
       "      <td>-0.00002</td>\n",
       "      <td>0.00002</td>\n",
       "      <td>0.00009</td>\n",
       "      <td>-0.00187</td>\n",
       "      <td>0.00003</td>\n",
       "      <td>0.00196</td>\n",
       "      <td>0.03243</td>\n",
       "      <td>0.00172</td>\n",
       "    </tr>\n",
       "    <tr>\n",
       "      <th>component_6</th>\n",
       "      <td>0.00044</td>\n",
       "      <td>0.02976</td>\n",
       "      <td>0.00071</td>\n",
       "      <td>0.00048</td>\n",
       "      <td>0.00071</td>\n",
       "      <td>-0.00000</td>\n",
       "      <td>0.00097</td>\n",
       "      <td>0.00005</td>\n",
       "      <td>0.00029</td>\n",
       "      <td>-0.00000</td>\n",
       "      <td>...</td>\n",
       "      <td>0.00011</td>\n",
       "      <td>-0.00497</td>\n",
       "      <td>0.00014</td>\n",
       "      <td>0.00011</td>\n",
       "      <td>-0.00008</td>\n",
       "      <td>0.00534</td>\n",
       "      <td>0.00002</td>\n",
       "      <td>0.01452</td>\n",
       "      <td>-0.00513</td>\n",
       "      <td>-0.00128</td>\n",
       "    </tr>\n",
       "    <tr>\n",
       "      <th>component_7</th>\n",
       "      <td>0.00421</td>\n",
       "      <td>-0.00177</td>\n",
       "      <td>0.00013</td>\n",
       "      <td>-0.00328</td>\n",
       "      <td>0.00013</td>\n",
       "      <td>0.00002</td>\n",
       "      <td>0.00298</td>\n",
       "      <td>0.00004</td>\n",
       "      <td>0.00033</td>\n",
       "      <td>0.00002</td>\n",
       "      <td>...</td>\n",
       "      <td>-0.00006</td>\n",
       "      <td>-0.00018</td>\n",
       "      <td>0.00015</td>\n",
       "      <td>0.00019</td>\n",
       "      <td>0.00003</td>\n",
       "      <td>-0.00051</td>\n",
       "      <td>-0.00000</td>\n",
       "      <td>-0.00035</td>\n",
       "      <td>0.00412</td>\n",
       "      <td>-0.00044</td>\n",
       "    </tr>\n",
       "    <tr>\n",
       "      <th>component_8</th>\n",
       "      <td>0.00026</td>\n",
       "      <td>-0.01443</td>\n",
       "      <td>-0.00511</td>\n",
       "      <td>-0.00118</td>\n",
       "      <td>-0.00511</td>\n",
       "      <td>-0.00017</td>\n",
       "      <td>0.00075</td>\n",
       "      <td>-0.00009</td>\n",
       "      <td>-0.00061</td>\n",
       "      <td>-0.00017</td>\n",
       "      <td>...</td>\n",
       "      <td>-0.00081</td>\n",
       "      <td>-0.00813</td>\n",
       "      <td>-0.00010</td>\n",
       "      <td>-0.00006</td>\n",
       "      <td>0.00037</td>\n",
       "      <td>0.00691</td>\n",
       "      <td>0.00010</td>\n",
       "      <td>-0.00207</td>\n",
       "      <td>-0.01612</td>\n",
       "      <td>-0.00118</td>\n",
       "    </tr>\n",
       "    <tr>\n",
       "      <th>component_9</th>\n",
       "      <td>0.00001</td>\n",
       "      <td>-0.00078</td>\n",
       "      <td>0.00858</td>\n",
       "      <td>-0.00045</td>\n",
       "      <td>0.00858</td>\n",
       "      <td>0.00005</td>\n",
       "      <td>0.00104</td>\n",
       "      <td>0.00002</td>\n",
       "      <td>0.00044</td>\n",
       "      <td>0.00005</td>\n",
       "      <td>...</td>\n",
       "      <td>0.00037</td>\n",
       "      <td>-0.00308</td>\n",
       "      <td>0.00058</td>\n",
       "      <td>0.00012</td>\n",
       "      <td>0.00020</td>\n",
       "      <td>0.00286</td>\n",
       "      <td>0.00003</td>\n",
       "      <td>-0.00183</td>\n",
       "      <td>0.00375</td>\n",
       "      <td>-0.00030</td>\n",
       "    </tr>\n",
       "    <tr>\n",
       "      <th>component_10</th>\n",
       "      <td>0.00005</td>\n",
       "      <td>-0.02221</td>\n",
       "      <td>0.00506</td>\n",
       "      <td>-0.00030</td>\n",
       "      <td>0.00506</td>\n",
       "      <td>-0.00004</td>\n",
       "      <td>0.00036</td>\n",
       "      <td>0.00002</td>\n",
       "      <td>-0.00041</td>\n",
       "      <td>-0.00004</td>\n",
       "      <td>...</td>\n",
       "      <td>-0.00089</td>\n",
       "      <td>-0.00362</td>\n",
       "      <td>0.00003</td>\n",
       "      <td>-0.00027</td>\n",
       "      <td>0.00046</td>\n",
       "      <td>0.00077</td>\n",
       "      <td>-0.00003</td>\n",
       "      <td>-0.00687</td>\n",
       "      <td>-0.01411</td>\n",
       "      <td>-0.00064</td>\n",
       "    </tr>\n",
       "  </tbody>\n",
       "</table>\n",
       "<p>10 rows × 4075 columns</p>\n",
       "</div>"
      ],
      "text/plain": [
       "                   11       12     1689     1723     1733     1790       18  \\\n",
       "component_1   0.00048  0.00153  0.00002  0.00125  0.00002  0.00001  0.00011   \n",
       "component_2  -0.00152  0.00498  0.00029 -0.00247  0.00029 -0.00000 -0.00076   \n",
       "component_3   0.00010  0.01907  0.00015 -0.00045  0.00015  0.00001 -0.00004   \n",
       "component_4   0.00030 -0.00321  0.00036  0.00160  0.00036 -0.00002  0.00052   \n",
       "component_5  -0.00004  0.00883  0.00027 -0.00086  0.00027  0.00003 -0.00022   \n",
       "component_6   0.00044  0.02976  0.00071  0.00048  0.00071 -0.00000  0.00097   \n",
       "component_7   0.00421 -0.00177  0.00013 -0.00328  0.00013  0.00002  0.00298   \n",
       "component_8   0.00026 -0.01443 -0.00511 -0.00118 -0.00511 -0.00017  0.00075   \n",
       "component_9   0.00001 -0.00078  0.00858 -0.00045  0.00858  0.00005  0.00104   \n",
       "component_10  0.00005 -0.02221  0.00506 -0.00030  0.00506 -0.00004  0.00036   \n",
       "\n",
       "                 1830     1861     1866   ...     zimbabwe    zinke      zoe  \\\n",
       "component_1   0.00000  0.00004  0.00001   ...      0.00002  0.00250  0.00004   \n",
       "component_2  -0.00000  0.00005 -0.00000   ...      0.00010  0.00101  0.00016   \n",
       "component_3   0.00005  0.00020  0.00001   ...      0.00010  0.00024  0.00004   \n",
       "component_4   0.00001  0.00001 -0.00002   ...     -0.00007 -0.00223  0.00001   \n",
       "component_5   0.00001  0.00011  0.00003   ...      0.00030  0.00211 -0.00002   \n",
       "component_6   0.00005  0.00029 -0.00000   ...      0.00011 -0.00497  0.00014   \n",
       "component_7   0.00004  0.00033  0.00002   ...     -0.00006 -0.00018  0.00015   \n",
       "component_8  -0.00009 -0.00061 -0.00017   ...     -0.00081 -0.00813 -0.00010   \n",
       "component_9   0.00002  0.00044  0.00005   ...      0.00037 -0.00308  0.00058   \n",
       "component_10  0.00002 -0.00041 -0.00004   ...     -0.00089 -0.00362  0.00003   \n",
       "\n",
       "               zoloft    zomba     zone     zoos    zpass  zuckerberg     zuma  \n",
       "component_1   0.00001  0.00002  0.00145  0.00000  0.00009     0.00530  0.00043  \n",
       "component_2  -0.00001  0.00007 -0.00494  0.00000  0.00124     0.01082  0.00055  \n",
       "component_3   0.00014  0.00017 -0.00073  0.00000  0.00655    -0.00256  0.00088  \n",
       "component_4   0.00003 -0.00009  0.00439  0.00001 -0.00001     0.01020 -0.00195  \n",
       "component_5   0.00002  0.00009 -0.00187  0.00003  0.00196     0.03243  0.00172  \n",
       "component_6   0.00011 -0.00008  0.00534  0.00002  0.01452    -0.00513 -0.00128  \n",
       "component_7   0.00019  0.00003 -0.00051 -0.00000 -0.00035     0.00412 -0.00044  \n",
       "component_8  -0.00006  0.00037  0.00691  0.00010 -0.00207    -0.01612 -0.00118  \n",
       "component_9   0.00012  0.00020  0.00286  0.00003 -0.00183     0.00375 -0.00030  \n",
       "component_10 -0.00027  0.00046  0.00077 -0.00003 -0.00687    -0.01411 -0.00064  \n",
       "\n",
       "[10 rows x 4075 columns]"
      ]
     },
     "execution_count": 9,
     "metadata": {},
     "output_type": "execute_result"
    }
   ],
   "source": [
    "pd.DataFrame(lsa.components_.round(5),index = [\"component_1\",\"component_2\",\"component_3\",\"component_4\",\"component_5\",\"component_6\",\"component_7\",\"component_8\",\"component_9\",\"component_10\"],columns = vectorizer.get_feature_names())\n"
   ]
  },
  {
   "cell_type": "code",
   "execution_count": 10,
   "metadata": {},
   "outputs": [],
   "source": [
    "s = pd.DataFrame(dtm_lsa.round(5), index = keywords, columns = [\"component_1\",\"component_2\",\"component_3\",\"component_4\",\"component_5\",\"component_6\",\"component_7\",\"component_8\",\"component_9\",\"component_10\"])"
   ]
  },
  {
   "cell_type": "code",
   "execution_count": 13,
   "metadata": {
    "scrolled": true
   },
   "outputs": [],
   "source": [
    "X = s[[\"component_1\",\"component_2\",\"component_3\",\"component_4\",\"component_5\",\"component_6\",\"component_7\",\"component_8\",\"component_9\",\"component_10\"]]"
   ]
  },
  {
   "cell_type": "code",
   "execution_count": 15,
   "metadata": {},
   "outputs": [],
   "source": [
    "from sklearn.model_selection import train_test_split\n",
    "X_train, X_test, y_train, y_test = train_test_split(X, y, test_size=0.3, random_state=0)"
   ]
  },
  {
   "cell_type": "markdown",
   "metadata": {},
   "source": [
    "# The rest of the notebook will be devoted to trying different classifiers on these 10 vectors, and ultimately producing the ROC curve shown below"
   ]
  },
  {
   "cell_type": "code",
   "execution_count": 73,
   "metadata": {
    "scrolled": true
   },
   "outputs": [
    {
     "data": {
      "text/plain": [
       "Text(0.5,1,'ROCs for Each Model')"
      ]
     },
     "execution_count": 73,
     "metadata": {},
     "output_type": "execute_result"
    },
    {
     "data": {
      "text/plain": [
       "<Figure size 432x288 with 0 Axes>"
      ]
     },
     "metadata": {},
     "output_type": "display_data"
    },
    {
     "data": {
      "image/png": "[encoded data removed]",
      "text/plain": [
       "<Figure size 648x648 with 1 Axes>"
      ]
     },
     "metadata": {},
     "output_type": "display_data"
    }
   ],
   "source": [
    "from sklearn.metrics import roc_curve, auc\n",
    "import matplotlib.pyplot as plt\n",
    "%matplotlib inline\n",
    "\n",
    "fpr_svc, tpr_svc,_ = roc_curve(y_test, y_score_svc)\n",
    "roc_auc_svc = auc(fpr_svc, tpr_svc)\n",
    "\n",
    "fpr_rf, tpr_rf,_ = roc_curve(y_test, y_score_rf)\n",
    "roc_auc_rf = auc(fpr_rf, tpr_rf)\n",
    "\n",
    "fpr_gb, tpr_gb,_ = roc_curve(y_test, y_score_gb)\n",
    "roc_auc_gb = auc(fpr_gb, tpr_gb)\n",
    "\n",
    "fpr_log, tpr_log,_ = roc_curve(y_test, y_score_log)\n",
    "roc_auc_log = auc(fpr_log, tpr_log)\n",
    "\n",
    "\n",
    "plt.figure()\n",
    "plt.figure(figsize=(9,9))\n",
    "# Plotting our Baseline..\n",
    "plt.plot([0,1],[0,1])\n",
    "line1 = plt.plot(fpr_svc,tpr_svc, label = 'SVC', color = 'red')\n",
    "line2 = plt.plot(fpr_rf,tpr_rf, label = 'RF', color = 'grey')\n",
    "line3 = plt.plot(fpr_gb,tpr_gb, label = 'GB', color = 'grey')\n",
    "line4 = plt.plot(fpr_log,tpr_log, label = 'LOG', color = 'grey')\n",
    "plt.xlabel('FPR')\n",
    "plt.ylabel('TPR')\n",
    "plt.legend()\n",
    "plt.title('ROCs for Each Model')"
   ]
  },
  {
   "cell_type": "markdown",
   "metadata": {},
   "source": [
    "# Naive Bayes"
   ]
  },
  {
   "cell_type": "code",
   "execution_count": 16,
   "metadata": {},
   "outputs": [],
   "source": [
    "from sklearn.naive_bayes import GaussianNB\n",
    "clf = GaussianNB()"
   ]
  },
  {
   "cell_type": "code",
   "execution_count": 17,
   "metadata": {
    "scrolled": true
   },
   "outputs": [
    {
     "data": {
      "text/plain": [
       "GaussianNB(priors=None)"
      ]
     },
     "execution_count": 17,
     "metadata": {},
     "output_type": "execute_result"
    }
   ],
   "source": [
    "clf.fit(X_train, y_train)"
   ]
  },
  {
   "cell_type": "code",
   "execution_count": 18,
   "metadata": {},
   "outputs": [
    {
     "data": {
      "text/plain": [
       "0.7055900621118012"
      ]
     },
     "execution_count": 18,
     "metadata": {},
     "output_type": "execute_result"
    }
   ],
   "source": [
    "clf.score(X_train, y_train)"
   ]
  },
  {
   "cell_type": "code",
   "execution_count": 19,
   "metadata": {},
   "outputs": [
    {
     "data": {
      "text/plain": [
       "0.7130434782608696"
      ]
     },
     "execution_count": 19,
     "metadata": {},
     "output_type": "execute_result"
    }
   ],
   "source": [
    "clf.score(X_test, y_test)"
   ]
  },
  {
   "cell_type": "code",
   "execution_count": 20,
   "metadata": {},
   "outputs": [
    {
     "name": "stdout",
     "output_type": "stream",
     "text": [
      "             precision    recall  f1-score   support\n",
      "\n",
      "          0       0.70      0.78      0.74       181\n",
      "          1       0.73      0.63      0.68       164\n",
      "\n",
      "avg / total       0.71      0.71      0.71       345\n",
      "\n"
     ]
    }
   ],
   "source": [
    "from sklearn.metrics import accuracy_score, classification_report\n",
    "print(classification_report(y_test, clf.predict(X_test)))"
   ]
  },
  {
   "cell_type": "markdown",
   "metadata": {},
   "source": [
    "# Gradient Boosting"
   ]
  },
  {
   "cell_type": "code",
   "execution_count": 22,
   "metadata": {},
   "outputs": [],
   "source": [
    "gradboost = GradientBoostingClassifier()"
   ]
  },
  {
   "cell_type": "code",
   "execution_count": 23,
   "metadata": {},
   "outputs": [],
   "source": [
    "n_range = [10, 100, 300]\n",
    "l_rate = [.001, .01, .1]\n",
    "depth = [3, 5]\n",
    "param_grid = dict(n_estimators=n_range, learning_rate=l_rate, max_depth=depth, random_state=[2])"
   ]
  },
  {
   "cell_type": "code",
   "execution_count": 24,
   "metadata": {},
   "outputs": [],
   "source": [
    "grid_gb = GridSearchCV(gradboost, param_grid, cv=10, scoring='accuracy', pre_dispatch=-1)"
   ]
  },
  {
   "cell_type": "code",
   "execution_count": 25,
   "metadata": {},
   "outputs": [
    {
     "data": {
      "text/plain": [
       "GridSearchCV(cv=10, error_score='raise',\n",
       "       estimator=GradientBoostingClassifier(criterion='friedman_mse', init=None,\n",
       "              learning_rate=0.1, loss='deviance', max_depth=3,\n",
       "              max_features=None, max_leaf_nodes=None,\n",
       "              min_impurity_decrease=0.0, min_impurity_split=None,\n",
       "              min_samples_leaf=1, min_samples_split=2,\n",
       "              min_weight_fraction_leaf=0.0, n_estimators=100,\n",
       "              presort='auto', random_state=None, subsample=1.0, verbose=0,\n",
       "              warm_start=False),\n",
       "       fit_params=None, iid=True, n_jobs=1,\n",
       "       param_grid={'n_estimators': [10, 100, 300], 'learning_rate': [0.001, 0.01, 0.1], 'max_depth': [3, 5], 'random_state': [2]},\n",
       "       pre_dispatch=-1, refit=True, return_train_score='warn',\n",
       "       scoring='accuracy', verbose=0)"
      ]
     },
     "execution_count": 25,
     "metadata": {},
     "output_type": "execute_result"
    }
   ],
   "source": [
    "grid_gb.fit(X_train, y_train)"
   ]
  },
  {
   "cell_type": "code",
   "execution_count": 26,
   "metadata": {},
   "outputs": [
    {
     "name": "stderr",
     "output_type": "stream",
     "text": [
      "/anaconda3/lib/python3.6/site-packages/sklearn/model_selection/_search.py:761: DeprecationWarning: The grid_scores_ attribute was deprecated in version 0.18 in favor of the more elaborate cv_results_ attribute. The grid_scores_ attribute will not be available from 0.20\n",
      "  DeprecationWarning)\n"
     ]
    },
    {
     "data": {
      "text/plain": [
       "[mean: 0.53540, std: 0.00299, params: {'learning_rate': 0.001, 'max_depth': 3, 'n_estimators': 10, 'random_state': 2},\n",
       " mean: 0.63106, std: 0.04714, params: {'learning_rate': 0.001, 'max_depth': 3, 'n_estimators': 100, 'random_state': 2},\n",
       " mean: 0.69317, std: 0.02778, params: {'learning_rate': 0.001, 'max_depth': 3, 'n_estimators': 300, 'random_state': 2},\n",
       " mean: 0.53540, std: 0.00299, params: {'learning_rate': 0.001, 'max_depth': 5, 'n_estimators': 10, 'random_state': 2},\n",
       " mean: 0.65217, std: 0.04282, params: {'learning_rate': 0.001, 'max_depth': 5, 'n_estimators': 100, 'random_state': 2},\n",
       " mean: 0.68696, std: 0.04514, params: {'learning_rate': 0.001, 'max_depth': 5, 'n_estimators': 300, 'random_state': 2},\n",
       " mean: 0.63106, std: 0.04714, params: {'learning_rate': 0.01, 'max_depth': 3, 'n_estimators': 10, 'random_state': 2},\n",
       " mean: 0.69938, std: 0.03733, params: {'learning_rate': 0.01, 'max_depth': 3, 'n_estimators': 100, 'random_state': 2},\n",
       " mean: 0.71801, std: 0.03258, params: {'learning_rate': 0.01, 'max_depth': 3, 'n_estimators': 300, 'random_state': 2},\n",
       " mean: 0.65217, std: 0.04630, params: {'learning_rate': 0.01, 'max_depth': 5, 'n_estimators': 10, 'random_state': 2},\n",
       " mean: 0.68820, std: 0.03948, params: {'learning_rate': 0.01, 'max_depth': 5, 'n_estimators': 100, 'random_state': 2},\n",
       " mean: 0.69565, std: 0.03590, params: {'learning_rate': 0.01, 'max_depth': 5, 'n_estimators': 300, 'random_state': 2},\n",
       " mean: 0.69441, std: 0.03238, params: {'learning_rate': 0.1, 'max_depth': 3, 'n_estimators': 10, 'random_state': 2},\n",
       " mean: 0.67826, std: 0.04986, params: {'learning_rate': 0.1, 'max_depth': 3, 'n_estimators': 100, 'random_state': 2},\n",
       " mean: 0.67453, std: 0.04444, params: {'learning_rate': 0.1, 'max_depth': 3, 'n_estimators': 300, 'random_state': 2},\n",
       " mean: 0.67702, std: 0.04156, params: {'learning_rate': 0.1, 'max_depth': 5, 'n_estimators': 10, 'random_state': 2},\n",
       " mean: 0.67950, std: 0.03000, params: {'learning_rate': 0.1, 'max_depth': 5, 'n_estimators': 100, 'random_state': 2},\n",
       " mean: 0.68075, std: 0.03265, params: {'learning_rate': 0.1, 'max_depth': 5, 'n_estimators': 300, 'random_state': 2}]"
      ]
     },
     "execution_count": 26,
     "metadata": {},
     "output_type": "execute_result"
    }
   ],
   "source": [
    "grid_gb.grid_scores_\n"
   ]
  },
  {
   "cell_type": "code",
   "execution_count": 27,
   "metadata": {},
   "outputs": [
    {
     "name": "stdout",
     "output_type": "stream",
     "text": [
      "0.7180124223602484\n",
      "{'learning_rate': 0.01, 'max_depth': 3, 'n_estimators': 300, 'random_state': 2}\n",
      "GradientBoostingClassifier(criterion='friedman_mse', init=None,\n",
      "              learning_rate=0.01, loss='deviance', max_depth=3,\n",
      "              max_features=None, max_leaf_nodes=None,\n",
      "              min_impurity_decrease=0.0, min_impurity_split=None,\n",
      "              min_samples_leaf=1, min_samples_split=2,\n",
      "              min_weight_fraction_leaf=0.0, n_estimators=300,\n",
      "              presort='auto', random_state=2, subsample=1.0, verbose=0,\n",
      "              warm_start=False)\n"
     ]
    }
   ],
   "source": [
    "print(grid_gb.best_score_)\n",
    "print(grid_gb.best_params_)\n",
    "print(grid_gb.best_estimator_)"
   ]
  },
  {
   "cell_type": "code",
   "execution_count": 28,
   "metadata": {
    "scrolled": true
   },
   "outputs": [
    {
     "name": "stdout",
     "output_type": "stream",
     "text": [
      "             precision    recall  f1-score   support\n",
      "\n",
      "          0       0.71      0.78      0.74       181\n",
      "          1       0.73      0.65      0.69       164\n",
      "\n",
      "avg / total       0.72      0.72      0.72       345\n",
      "\n"
     ]
    }
   ],
   "source": [
    "print(classification_report(y_test, grid_gb.predict(X_test)))"
   ]
  },
  {
   "cell_type": "code",
   "execution_count": 29,
   "metadata": {},
   "outputs": [],
   "source": [
    "y_score_gb = grid_gb.predict_proba(X_test)[:,1]"
   ]
  },
  {
   "cell_type": "markdown",
   "metadata": {},
   "source": [
    "# Random Forest"
   ]
  },
  {
   "cell_type": "code",
   "execution_count": 31,
   "metadata": {},
   "outputs": [],
   "source": [
    "randomforest = RandomForestClassifier()"
   ]
  },
  {
   "cell_type": "code",
   "execution_count": 61,
   "metadata": {},
   "outputs": [],
   "source": [
    "n_range = [10, 50, 100, 300, 500]\n",
    "feat_range = [2, 5, ]\n",
    "depth = [2, 5, 10]\n",
    "param_grid = dict(n_estimators=n_range, max_features=feat_range, max_depth=depth)"
   ]
  },
  {
   "cell_type": "code",
   "execution_count": 62,
   "metadata": {},
   "outputs": [],
   "source": [
    "grid_rf = GridSearchCV(randomforest, param_grid, cv=10, scoring='accuracy', pre_dispatch=-1)"
   ]
  },
  {
   "cell_type": "code",
   "execution_count": 63,
   "metadata": {
    "scrolled": true
   },
   "outputs": [
    {
     "data": {
      "text/plain": [
       "GridSearchCV(cv=10, error_score='raise',\n",
       "       estimator=RandomForestClassifier(bootstrap=True, class_weight=None, criterion='gini',\n",
       "            max_depth=None, max_features='auto', max_leaf_nodes=None,\n",
       "            min_impurity_decrease=0.0, min_impurity_split=None,\n",
       "            min_samples_leaf=1, min_samples_split=2,\n",
       "            min_weight_fraction_leaf=0.0, n_estimators=10, n_jobs=1,\n",
       "            oob_score=False, random_state=None, verbose=0,\n",
       "            warm_start=False),\n",
       "       fit_params=None, iid=True, n_jobs=1,\n",
       "       param_grid={'n_estimators': [10, 50, 100, 300, 500], 'max_features': [2, 5], 'max_depth': [2, 5, 10]},\n",
       "       pre_dispatch=-1, refit=True, return_train_score='warn',\n",
       "       scoring='accuracy', verbose=0)"
      ]
     },
     "execution_count": 63,
     "metadata": {},
     "output_type": "execute_result"
    }
   ],
   "source": [
    "grid_rf.fit(X_train, y_train)"
   ]
  },
  {
   "cell_type": "code",
   "execution_count": 64,
   "metadata": {},
   "outputs": [
    {
     "data": {
      "text/plain": [
       "0.7072463768115942"
      ]
     },
     "execution_count": 64,
     "metadata": {},
     "output_type": "execute_result"
    }
   ],
   "source": [
    "grid_rf.score(X_test, y_test)"
   ]
  },
  {
   "cell_type": "code",
   "execution_count": 65,
   "metadata": {},
   "outputs": [
    {
     "name": "stderr",
     "output_type": "stream",
     "text": [
      "/anaconda3/lib/python3.6/site-packages/sklearn/model_selection/_search.py:761: DeprecationWarning: The grid_scores_ attribute was deprecated in version 0.18 in favor of the more elaborate cv_results_ attribute. The grid_scores_ attribute will not be available from 0.20\n",
      "  DeprecationWarning)\n"
     ]
    },
    {
     "data": {
      "text/plain": [
       "[mean: 0.71429, std: 0.04593, params: {'max_depth': 2, 'max_features': 2, 'n_estimators': 10},\n",
       " mean: 0.71429, std: 0.04647, params: {'max_depth': 2, 'max_features': 2, 'n_estimators': 50},\n",
       " mean: 0.72050, std: 0.04781, params: {'max_depth': 2, 'max_features': 2, 'n_estimators': 100},\n",
       " mean: 0.72547, std: 0.04943, params: {'max_depth': 2, 'max_features': 2, 'n_estimators': 300},\n",
       " mean: 0.72174, std: 0.04478, params: {'max_depth': 2, 'max_features': 2, 'n_estimators': 500},\n",
       " mean: 0.70807, std: 0.04746, params: {'max_depth': 2, 'max_features': 5, 'n_estimators': 10},\n",
       " mean: 0.70932, std: 0.04691, params: {'max_depth': 2, 'max_features': 5, 'n_estimators': 50},\n",
       " mean: 0.70932, std: 0.05043, params: {'max_depth': 2, 'max_features': 5, 'n_estimators': 100},\n",
       " mean: 0.71180, std: 0.04850, params: {'max_depth': 2, 'max_features': 5, 'n_estimators': 300},\n",
       " mean: 0.70932, std: 0.05113, params: {'max_depth': 2, 'max_features': 5, 'n_estimators': 500},\n",
       " mean: 0.71056, std: 0.04882, params: {'max_depth': 5, 'max_features': 2, 'n_estimators': 10},\n",
       " mean: 0.72050, std: 0.04675, params: {'max_depth': 5, 'max_features': 2, 'n_estimators': 50},\n",
       " mean: 0.72547, std: 0.03935, params: {'max_depth': 5, 'max_features': 2, 'n_estimators': 100},\n",
       " mean: 0.72422, std: 0.04483, params: {'max_depth': 5, 'max_features': 2, 'n_estimators': 300},\n",
       " mean: 0.72919, std: 0.04323, params: {'max_depth': 5, 'max_features': 2, 'n_estimators': 500},\n",
       " mean: 0.70932, std: 0.04199, params: {'max_depth': 5, 'max_features': 5, 'n_estimators': 10},\n",
       " mean: 0.71925, std: 0.03795, params: {'max_depth': 5, 'max_features': 5, 'n_estimators': 50},\n",
       " mean: 0.72547, std: 0.04535, params: {'max_depth': 5, 'max_features': 5, 'n_estimators': 100},\n",
       " mean: 0.72547, std: 0.04063, params: {'max_depth': 5, 'max_features': 5, 'n_estimators': 300},\n",
       " mean: 0.72174, std: 0.03798, params: {'max_depth': 5, 'max_features': 5, 'n_estimators': 500},\n",
       " mean: 0.71180, std: 0.04249, params: {'max_depth': 10, 'max_features': 2, 'n_estimators': 10},\n",
       " mean: 0.72547, std: 0.03632, params: {'max_depth': 10, 'max_features': 2, 'n_estimators': 50},\n",
       " mean: 0.73168, std: 0.03149, params: {'max_depth': 10, 'max_features': 2, 'n_estimators': 100},\n",
       " mean: 0.72919, std: 0.05640, params: {'max_depth': 10, 'max_features': 2, 'n_estimators': 300},\n",
       " mean: 0.71677, std: 0.04810, params: {'max_depth': 10, 'max_features': 2, 'n_estimators': 500},\n",
       " mean: 0.70559, std: 0.04084, params: {'max_depth': 10, 'max_features': 5, 'n_estimators': 10},\n",
       " mean: 0.70062, std: 0.04404, params: {'max_depth': 10, 'max_features': 5, 'n_estimators': 50},\n",
       " mean: 0.71304, std: 0.03769, params: {'max_depth': 10, 'max_features': 5, 'n_estimators': 100},\n",
       " mean: 0.71553, std: 0.04806, params: {'max_depth': 10, 'max_features': 5, 'n_estimators': 300},\n",
       " mean: 0.71801, std: 0.04730, params: {'max_depth': 10, 'max_features': 5, 'n_estimators': 500}]"
      ]
     },
     "execution_count": 65,
     "metadata": {},
     "output_type": "execute_result"
    }
   ],
   "source": [
    "grid_rf.grid_scores_\n"
   ]
  },
  {
   "cell_type": "code",
   "execution_count": 66,
   "metadata": {},
   "outputs": [
    {
     "name": "stdout",
     "output_type": "stream",
     "text": [
      "             precision    recall  f1-score   support\n",
      "\n",
      "          0       0.71      0.75      0.73       181\n",
      "          1       0.70      0.66      0.68       164\n",
      "\n",
      "avg / total       0.71      0.71      0.71       345\n",
      "\n"
     ]
    }
   ],
   "source": [
    "print(classification_report(y_test, grid_rf.predict(X_test)))"
   ]
  },
  {
   "cell_type": "code",
   "execution_count": 67,
   "metadata": {},
   "outputs": [
    {
     "name": "stdout",
     "output_type": "stream",
     "text": [
      "0.7316770186335404\n",
      "{'max_depth': 10, 'max_features': 2, 'n_estimators': 100}\n",
      "RandomForestClassifier(bootstrap=True, class_weight=None, criterion='gini',\n",
      "            max_depth=10, max_features=2, max_leaf_nodes=None,\n",
      "            min_impurity_decrease=0.0, min_impurity_split=None,\n",
      "            min_samples_leaf=1, min_samples_split=2,\n",
      "            min_weight_fraction_leaf=0.0, n_estimators=100, n_jobs=1,\n",
      "            oob_score=False, random_state=None, verbose=0,\n",
      "            warm_start=False)\n"
     ]
    }
   ],
   "source": [
    "print(grid_rf.best_score_)\n",
    "print(grid_rf.best_params_)\n",
    "print(grid_rf.best_estimator_)"
   ]
  },
  {
   "cell_type": "code",
   "execution_count": 68,
   "metadata": {},
   "outputs": [
    {
     "data": {
      "text/plain": [
       "0.7072463768115942"
      ]
     },
     "execution_count": 68,
     "metadata": {},
     "output_type": "execute_result"
    }
   ],
   "source": [
    "grid_rf.score(X_test, y_test)"
   ]
  },
  {
   "cell_type": "code",
   "execution_count": 69,
   "metadata": {},
   "outputs": [],
   "source": [
    "y_score_rf = grid_rf.predict_proba(X_test)[:,1]"
   ]
  },
  {
   "cell_type": "markdown",
   "metadata": {},
   "source": [
    "# Logistic Regression"
   ]
  },
  {
   "cell_type": "code",
   "execution_count": 41,
   "metadata": {},
   "outputs": [],
   "source": [
    "log = LogisticRegression()\n",
    "c_range = [.01,.1,1,2,5]\n",
    "param_grid = dict(C=c_range)\n"
   ]
  },
  {
   "cell_type": "code",
   "execution_count": 42,
   "metadata": {},
   "outputs": [],
   "source": [
    "grid_log = GridSearchCV(log, param_grid, cv=10, scoring='roc_auc', pre_dispatch=-1)"
   ]
  },
  {
   "cell_type": "code",
   "execution_count": 43,
   "metadata": {},
   "outputs": [
    {
     "data": {
      "text/plain": [
       "GridSearchCV(cv=10, error_score='raise',\n",
       "       estimator=LogisticRegression(C=1.0, class_weight=None, dual=False, fit_intercept=True,\n",
       "          intercept_scaling=1, max_iter=100, multi_class='ovr', n_jobs=1,\n",
       "          penalty='l2', random_state=None, solver='liblinear', tol=0.0001,\n",
       "          verbose=0, warm_start=False),\n",
       "       fit_params=None, iid=True, n_jobs=1,\n",
       "       param_grid={'C': [0.01, 0.1, 1, 2, 5]}, pre_dispatch=-1, refit=True,\n",
       "       return_train_score='warn', scoring='roc_auc', verbose=0)"
      ]
     },
     "execution_count": 43,
     "metadata": {},
     "output_type": "execute_result"
    }
   ],
   "source": [
    "grid_log.fit(X_train, y_train)"
   ]
  },
  {
   "cell_type": "code",
   "execution_count": 44,
   "metadata": {},
   "outputs": [
    {
     "name": "stderr",
     "output_type": "stream",
     "text": [
      "/anaconda3/lib/python3.6/site-packages/sklearn/model_selection/_search.py:761: DeprecationWarning: The grid_scores_ attribute was deprecated in version 0.18 in favor of the more elaborate cv_results_ attribute. The grid_scores_ attribute will not be available from 0.20\n",
      "  DeprecationWarning)\n"
     ]
    },
    {
     "data": {
      "text/plain": [
       "[mean: 0.76736, std: 0.04027, params: {'C': 0.01},\n",
       " mean: 0.77870, std: 0.04488, params: {'C': 0.1},\n",
       " mean: 0.78281, std: 0.04423, params: {'C': 1},\n",
       " mean: 0.78256, std: 0.04389, params: {'C': 2},\n",
       " mean: 0.78331, std: 0.04496, params: {'C': 5}]"
      ]
     },
     "execution_count": 44,
     "metadata": {},
     "output_type": "execute_result"
    }
   ],
   "source": [
    "grid_log.grid_scores_\n"
   ]
  },
  {
   "cell_type": "code",
   "execution_count": 45,
   "metadata": {
    "scrolled": true
   },
   "outputs": [
    {
     "name": "stdout",
     "output_type": "stream",
     "text": [
      "0.7833052569788242\n",
      "{'C': 5}\n",
      "LogisticRegression(C=5, class_weight=None, dual=False, fit_intercept=True,\n",
      "          intercept_scaling=1, max_iter=100, multi_class='ovr', n_jobs=1,\n",
      "          penalty='l2', random_state=None, solver='liblinear', tol=0.0001,\n",
      "          verbose=0, warm_start=False)\n"
     ]
    }
   ],
   "source": [
    "print(grid_log.best_score_)\n",
    "print(grid_log.best_params_)\n",
    "print(grid_log.best_estimator_)"
   ]
  },
  {
   "cell_type": "code",
   "execution_count": 46,
   "metadata": {
    "scrolled": false
   },
   "outputs": [
    {
     "name": "stdout",
     "output_type": "stream",
     "text": [
      "             precision    recall  f1-score   support\n",
      "\n",
      "          0       0.70      0.79      0.74       181\n",
      "          1       0.73      0.62      0.67       164\n",
      "\n",
      "avg / total       0.71      0.71      0.71       345\n",
      "\n"
     ]
    }
   ],
   "source": [
    "print(classification_report(y_test, grid_log.predict(X_test)))"
   ]
  },
  {
   "cell_type": "code",
   "execution_count": 47,
   "metadata": {},
   "outputs": [
    {
     "data": {
      "text/plain": [
       "0.7799824821452636"
      ]
     },
     "execution_count": 47,
     "metadata": {},
     "output_type": "execute_result"
    }
   ],
   "source": [
    "grid_log.score(X_test, y_test)"
   ]
  },
  {
   "cell_type": "code",
   "execution_count": 59,
   "metadata": {},
   "outputs": [],
   "source": [
    "y_score_log = grid_log.predict_proba(X_test)[:,1]"
   ]
  },
  {
   "cell_type": "markdown",
   "metadata": {},
   "source": [
    "# SVM"
   ]
  },
  {
   "cell_type": "code",
   "execution_count": 50,
   "metadata": {},
   "outputs": [],
   "source": [
    "c_range = [.01,.1,1,2]\n",
    "kernel_types = ['linear','rbf']\n",
    "gamma_range = [.001,.01,.1]\n",
    "param_grid = dict(C=c_range, kernel=kernel_types, gamma=gamma_range, probability=[True])\n",
    "\n",
    "grid_svc = GridSearchCV(SVC(), param_grid, cv=10, scoring='roc_auc', pre_dispatch=-1)"
   ]
  },
  {
   "cell_type": "code",
   "execution_count": 51,
   "metadata": {},
   "outputs": [
    {
     "data": {
      "text/plain": [
       "GridSearchCV(cv=10, error_score='raise',\n",
       "       estimator=SVC(C=1.0, cache_size=200, class_weight=None, coef0=0.0,\n",
       "  decision_function_shape='ovr', degree=3, gamma='auto', kernel='rbf',\n",
       "  max_iter=-1, probability=False, random_state=None, shrinking=True,\n",
       "  tol=0.001, verbose=False),\n",
       "       fit_params=None, iid=True, n_jobs=1,\n",
       "       param_grid={'C': [0.01, 0.1, 1, 2], 'kernel': ['linear', 'rbf'], 'gamma': [0.001, 0.01, 0.1], 'probability': [True]},\n",
       "       pre_dispatch=-1, refit=True, return_train_score='warn',\n",
       "       scoring='roc_auc', verbose=0)"
      ]
     },
     "execution_count": 51,
     "metadata": {},
     "output_type": "execute_result"
    }
   ],
   "source": [
    "grid_svc.fit(X_train, y_train)"
   ]
  },
  {
   "cell_type": "code",
   "execution_count": 52,
   "metadata": {},
   "outputs": [
    {
     "name": "stdout",
     "output_type": "stream",
     "text": [
      "             precision    recall  f1-score   support\n",
      "\n",
      "          0       0.71      0.81      0.76       181\n",
      "          1       0.76      0.64      0.69       164\n",
      "\n",
      "avg / total       0.73      0.73      0.73       345\n",
      "\n"
     ]
    }
   ],
   "source": [
    "print(classification_report(y_test, grid_svc.predict(X_test)))"
   ]
  },
  {
   "cell_type": "code",
   "execution_count": 53,
   "metadata": {
    "scrolled": false
   },
   "outputs": [
    {
     "name": "stdout",
     "output_type": "stream",
     "text": [
      "0.7771571751030003\n",
      "{'C': 2, 'gamma': 0.1, 'kernel': 'rbf', 'probability': True}\n",
      "SVC(C=2, cache_size=200, class_weight=None, coef0=0.0,\n",
      "  decision_function_shape='ovr', degree=3, gamma=0.1, kernel='rbf',\n",
      "  max_iter=-1, probability=True, random_state=None, shrinking=True,\n",
      "  tol=0.001, verbose=False)\n"
     ]
    }
   ],
   "source": [
    "print(grid_svc.best_score_)\n",
    "print(grid_svc.best_params_)\n",
    "print(grid_svc.best_estimator_)"
   ]
  },
  {
   "cell_type": "code",
   "execution_count": 54,
   "metadata": {},
   "outputs": [
    {
     "data": {
      "text/plain": [
       "0.7693033283923999"
      ]
     },
     "execution_count": 54,
     "metadata": {},
     "output_type": "execute_result"
    }
   ],
   "source": [
    "grid_svc.score(X_test, y_test)"
   ]
  },
  {
   "cell_type": "code",
   "execution_count": 55,
   "metadata": {},
   "outputs": [],
   "source": [
    "y_score_svc = grid_svc.predict_proba(X_test)[:,1]"
   ]
  },
  {
   "cell_type": "code",
   "execution_count": 88,
   "metadata": {},
   "outputs": [],
   "source": [
    "class_names = [0,1]\n",
    "import itertools\n",
    "import numpy as np\n",
    "import matplotlib.pyplot as plt\n",
    "\n",
    "from sklearn import svm, datasets\n",
    "from sklearn.model_selection import train_test_split\n",
    "from sklearn.metrics import confusion_matrix\n",
    "\n",
    "def plot_confusion_matrix(cm, classes,\n",
    "                          normalize=False,\n",
    "                          title='Confusion matrix',\n",
    "                          cmap=plt.cm.Blues):\n",
    "    \"\"\"\n",
    "    This function prints and plots the confusion matrix.\n",
    "    Normalization can be applied by setting `normalize=True`.\n",
    "    \"\"\"\n",
    "    if normalize:\n",
    "        cm = cm.astype('float') / cm.sum(axis=1)[:, np.newaxis]\n",
    "        print(\"Normalized confusion matrix\")\n",
    "    else:\n",
    "        print('Confusion matrix, without normalization')\n",
    "\n",
    "    print(cm)\n",
    "\n",
    "    plt.imshow(cm, interpolation='nearest', cmap=cmap)\n",
    "    plt.title(title)\n",
    "    plt.colorbar()\n",
    "    tick_marks = np.arange(len(classes))\n",
    "    plt.xticks(tick_marks, classes, rotation=45)\n",
    "    plt.yticks(tick_marks, classes)\n",
    "\n",
    "    fmt = '.2f' if normalize else 'd'\n",
    "    thresh = cm.max() / 2.\n",
    "    for i, j in itertools.product(range(cm.shape[0]), range(cm.shape[1])):\n",
    "        plt.text(j, i, format(cm[i, j], fmt),\n",
    "                 horizontalalignment=\"center\",\n",
    "                 color=\"white\" if cm[i, j] > thresh else \"black\")\n",
    "\n",
    "    plt.tight_layout()\n",
    "    plt.ylabel('True label')\n",
    "    plt.xlabel('Predicted label')"
   ]
  },
  {
   "cell_type": "code",
   "execution_count": 98,
   "metadata": {},
   "outputs": [
    {
     "name": "stdout",
     "output_type": "stream",
     "text": [
      "             precision    recall  f1-score   support\n",
      "\n",
      "          0       0.73      0.80      0.76       181\n",
      "          1       0.75      0.67      0.71       164\n",
      "\n",
      "avg / total       0.74      0.74      0.73       345\n",
      "\n",
      "Confusion matrix, without normalization\n",
      "[[144  37]\n",
      " [ 54 110]]\n"
     ]
    },
    {
     "data": {
      "image/png": "[encoded data removed]",
      "text/plain": [
       "<Figure size 432x288 with 2 Axes>"
      ]
     },
     "metadata": {},
     "output_type": "display_data"
    }
   ],
   "source": [
    "# For people we're sure are in the 0 group\n",
    "threshold = .5\n",
    "y_pred_svc = [1 if x >= threshold else 0 for x in y_score_svc]\n",
    "print(classification_report(y_test, y_pred_svc))\n",
    "from sklearn.metrics import confusion_matrix\n",
    "cnf_matrix = confusion_matrix(y_test, y_pred_svc)\n",
    "plt.figure()\n",
    "plot_confusion_matrix(cnf_matrix, classes=class_names,\n",
    "                      title='Confusion Matrix for SVC @Thresh=.5')"
   ]
  },
  {
   "cell_type": "code",
   "execution_count": 73,
   "metadata": {
    "scrolled": true
   },
   "outputs": [
    {
     "data": {
      "text/plain": [
       "Text(0.5,1,'ROCs for Each Model')"
      ]
     },
     "execution_count": 73,
     "metadata": {},
     "output_type": "execute_result"
    },
    {
     "data": {
      "text/plain": [
       "<Figure size 432x288 with 0 Axes>"
      ]
     },
     "metadata": {},
     "output_type": "display_data"
    },
    {
     "data": {
      "image/png": "[encoded data removed]",
      "text/plain": [
       "<Figure size 648x648 with 1 Axes>"
      ]
     },
     "metadata": {},
     "output_type": "display_data"
    }
   ],
   "source": [
    "from sklearn.metrics import roc_curve, auc\n",
    "import matplotlib.pyplot as plt\n",
    "%matplotlib inline\n",
    "\n",
    "fpr_svc, tpr_svc,_ = roc_curve(y_test, y_score_svc)\n",
    "roc_auc_svc = auc(fpr_svc, tpr_svc)\n",
    "\n",
    "fpr_rf, tpr_rf,_ = roc_curve(y_test, y_score_rf)\n",
    "roc_auc_rf = auc(fpr_rf, tpr_rf)\n",
    "\n",
    "fpr_gb, tpr_gb,_ = roc_curve(y_test, y_score_gb)\n",
    "roc_auc_gb = auc(fpr_gb, tpr_gb)\n",
    "\n",
    "fpr_log, tpr_log,_ = roc_curve(y_test, y_score_log)\n",
    "roc_auc_log = auc(fpr_log, tpr_log)\n",
    "\n",
    "\n",
    "plt.figure()\n",
    "plt.figure(figsize=(9,9))\n",
    "# Plotting our Baseline..\n",
    "plt.plot([0,1],[0,1])\n",
    "line1 = plt.plot(fpr_svc,tpr_svc, label = 'SVC', color = 'red')\n",
    "line2 = plt.plot(fpr_rf,tpr_rf, label = 'RF', color = 'grey')\n",
    "line3 = plt.plot(fpr_gb,tpr_gb, label = 'GB', color = 'grey')\n",
    "line4 = plt.plot(fpr_log,tpr_log, label = 'LOG', color = 'grey')\n",
    "plt.xlabel('FPR')\n",
    "plt.ylabel('TPR')\n",
    "plt.legend()\n",
    "plt.title('ROCs for Each Model')"
   ]
  }
 ],
 "metadata": {
  "kernelspec": {
   "display_name": "Python 3",
   "language": "python",
   "name": "python3"
  },
  "language_info": {
   "codemirror_mode": {
    "name": "ipython",
    "version": 3
   },
   "file_extension": ".py",
   "mimetype": "text/x-python",
   "name": "python",
   "nbconvert_exporter": "python",
   "pygments_lexer": "ipython3",
   "version": "3.6.5"
  }
 },
 "nbformat": 4,
 "nbformat_minor": 2
}
